{
 "cells": [
  {
   "cell_type": "markdown",
   "id": "f99f4c04",
   "metadata": {},
   "source": [
    "## Analise Exploratoria "
   ]
  },
  {
   "cell_type": "code",
   "execution_count": 1,
   "id": "56222cfd",
   "metadata": {},
   "outputs": [],
   "source": [
    "# Importando bibliotecas\n",
    "import pandas as pd\n",
    "import numpy as np\n",
    "import matplotlib.pyplot as plt\n",
    "import seaborn as sns"
   ]
  },
  {
   "cell_type": "code",
   "execution_count": 2,
   "id": "7133e26d",
   "metadata": {},
   "outputs": [],
   "source": [
    "pd.set_option('display.max_columns', None)\n",
    "pd.set_option('display.max_rows', None)"
   ]
  },
  {
   "cell_type": "code",
   "execution_count": 40,
   "id": "06a95193",
   "metadata": {},
   "outputs": [
    {
     "name": "stdout",
     "output_type": "stream",
     "text": [
      "Collecting fastparquet\n",
      "  Downloading fastparquet-0.8.3-cp39-cp39-win_amd64.whl (605 kB)\n",
      "Requirement already satisfied: pandas>=1.1.0 in c:\\users\\cezar\\anaconda3\\lib\\site-packages (from fastparquet) (1.4.2)\n",
      "Requirement already satisfied: packaging in c:\\users\\cezar\\anaconda3\\lib\\site-packages (from fastparquet) (21.3)\n",
      "Requirement already satisfied: fsspec in c:\\users\\cezar\\anaconda3\\lib\\site-packages (from fastparquet) (2022.2.0)\n",
      "Requirement already satisfied: numpy>=1.18 in c:\\users\\cezar\\anaconda3\\lib\\site-packages (from fastparquet) (1.21.5)\n",
      "Collecting cramjam>=2.3.0\n",
      "  Downloading cramjam-2.5.0-cp39-none-win_amd64.whl (993 kB)\n",
      "Requirement already satisfied: pytz>=2020.1 in c:\\users\\cezar\\anaconda3\\lib\\site-packages (from pandas>=1.1.0->fastparquet) (2021.3)\n",
      "Requirement already satisfied: python-dateutil>=2.8.1 in c:\\users\\cezar\\anaconda3\\lib\\site-packages (from pandas>=1.1.0->fastparquet) (2.8.2)\n",
      "Requirement already satisfied: six>=1.5 in c:\\users\\cezar\\anaconda3\\lib\\site-packages (from python-dateutil>=2.8.1->pandas>=1.1.0->fastparquet) (1.16.0)\n",
      "Requirement already satisfied: pyparsing!=3.0.5,>=2.0.2 in c:\\users\\cezar\\anaconda3\\lib\\site-packages (from packaging->fastparquet) (3.0.4)\n",
      "Installing collected packages: cramjam, fastparquet\n",
      "Successfully installed cramjam-2.5.0 fastparquet-0.8.3\n"
     ]
    }
   ],
   "source": [
    "!pip install fastparquet"
   ]
  },
  {
   "cell_type": "markdown",
   "id": "2e890403",
   "metadata": {},
   "source": [
    "**Importando e Tratando Dados - Clientes**"
   ]
  },
  {
   "cell_type": "code",
   "execution_count": 3,
   "id": "47df8592",
   "metadata": {},
   "outputs": [],
   "source": [
    "clientes=pd.read_csv('customer.csv') "
   ]
  },
  {
   "cell_type": "code",
   "execution_count": 4,
   "id": "f96e35f1",
   "metadata": {},
   "outputs": [
    {
     "data": {
      "text/plain": [
       "(407, 15)"
      ]
     },
     "execution_count": 4,
     "metadata": {},
     "output_type": "execute_result"
    }
   ],
   "source": [
    "clientes.shape"
   ]
  },
  {
   "cell_type": "code",
   "execution_count": 5,
   "id": "9f576a9e",
   "metadata": {},
   "outputs": [
    {
     "name": "stdout",
     "output_type": "stream",
     "text": [
      "<class 'pandas.core.frame.DataFrame'>\n",
      "RangeIndex: 407 entries, 0 to 406\n",
      "Data columns (total 15 columns):\n",
      " #   Column        Non-Null Count  Dtype \n",
      "---  ------        --------------  ----- \n",
      " 0   customerid    407 non-null    int64 \n",
      " 1   namestyle     407 non-null    bool  \n",
      " 2   title         404 non-null    object\n",
      " 3   firstname     407 non-null    object\n",
      " 4   middlename    241 non-null    object\n",
      " 5   lastname      407 non-null    object\n",
      " 6   suffix        23 non-null     object\n",
      " 7   companyname   407 non-null    object\n",
      " 8   salesperson   407 non-null    object\n",
      " 9   emailaddress  407 non-null    object\n",
      " 10  phone         407 non-null    object\n",
      " 11  passwordhash  407 non-null    object\n",
      " 12  passwordsalt  407 non-null    object\n",
      " 13  rowguid       407 non-null    object\n",
      " 14  modifieddate  407 non-null    object\n",
      "dtypes: bool(1), int64(1), object(13)\n",
      "memory usage: 45.0+ KB\n"
     ]
    }
   ],
   "source": [
    "clientes.info()"
   ]
  },
  {
   "cell_type": "code",
   "execution_count": 6,
   "id": "2648eeeb",
   "metadata": {},
   "outputs": [
    {
     "data": {
      "text/html": [
       "<div>\n",
       "<style scoped>\n",
       "    .dataframe tbody tr th:only-of-type {\n",
       "        vertical-align: middle;\n",
       "    }\n",
       "\n",
       "    .dataframe tbody tr th {\n",
       "        vertical-align: top;\n",
       "    }\n",
       "\n",
       "    .dataframe thead th {\n",
       "        text-align: right;\n",
       "    }\n",
       "</style>\n",
       "<table border=\"1\" class=\"dataframe\">\n",
       "  <thead>\n",
       "    <tr style=\"text-align: right;\">\n",
       "      <th></th>\n",
       "      <th>customerid</th>\n",
       "      <th>namestyle</th>\n",
       "      <th>title</th>\n",
       "      <th>firstname</th>\n",
       "      <th>middlename</th>\n",
       "      <th>lastname</th>\n",
       "      <th>suffix</th>\n",
       "      <th>companyname</th>\n",
       "      <th>salesperson</th>\n",
       "      <th>emailaddress</th>\n",
       "      <th>phone</th>\n",
       "      <th>passwordhash</th>\n",
       "      <th>passwordsalt</th>\n",
       "      <th>rowguid</th>\n",
       "      <th>modifieddate</th>\n",
       "    </tr>\n",
       "  </thead>\n",
       "  <tbody>\n",
       "    <tr>\n",
       "      <th>0</th>\n",
       "      <td>29485</td>\n",
       "      <td>False</td>\n",
       "      <td>Ms.</td>\n",
       "      <td>Catherine</td>\n",
       "      <td>R.</td>\n",
       "      <td>Abel</td>\n",
       "      <td>NaN</td>\n",
       "      <td>Professional Sales and Service</td>\n",
       "      <td>adventure-works\\linda3</td>\n",
       "      <td>catherine0@adventure-works.com</td>\n",
       "      <td>747-555-0171</td>\n",
       "      <td>zh3goJUbYsPv92k4bVZuJtlLHwuvpQtu6uNcjkKSdF8=</td>\n",
       "      <td>rpyd5Tw=</td>\n",
       "      <td>392ae773-d7ec-48ac-b8d0-6e65b770285c</td>\n",
       "      <td>2009-05-16 16:33:33.077</td>\n",
       "    </tr>\n",
       "  </tbody>\n",
       "</table>\n",
       "</div>"
      ],
      "text/plain": [
       "   customerid  namestyle title  firstname middlename lastname suffix  \\\n",
       "0       29485      False   Ms.  Catherine         R.     Abel    NaN   \n",
       "\n",
       "                      companyname             salesperson  \\\n",
       "0  Professional Sales and Service  adventure-works\\linda3   \n",
       "\n",
       "                     emailaddress         phone  \\\n",
       "0  catherine0@adventure-works.com  747-555-0171   \n",
       "\n",
       "                                   passwordhash passwordsalt  \\\n",
       "0  zh3goJUbYsPv92k4bVZuJtlLHwuvpQtu6uNcjkKSdF8=     rpyd5Tw=   \n",
       "\n",
       "                                rowguid             modifieddate  \n",
       "0  392ae773-d7ec-48ac-b8d0-6e65b770285c  2009-05-16 16:33:33.077  "
      ]
     },
     "execution_count": 6,
     "metadata": {},
     "output_type": "execute_result"
    }
   ],
   "source": [
    "clientes.head(1)"
   ]
  },
  {
   "cell_type": "code",
   "execution_count": 7,
   "id": "d84f6dc5",
   "metadata": {},
   "outputs": [],
   "source": [
    "clientes['middlename'].fillna(value = \" \", inplace = True)"
   ]
  },
  {
   "cell_type": "code",
   "execution_count": 8,
   "id": "4a487a71",
   "metadata": {},
   "outputs": [],
   "source": [
    "clientes[\"fullname\"] = clientes[\"firstname\"] + \" \" + clientes[\"middlename\"] + \" \" + clientes[\"lastname\"]"
   ]
  },
  {
   "cell_type": "code",
   "execution_count": 9,
   "id": "854c6718",
   "metadata": {},
   "outputs": [],
   "source": [
    "clientes=clientes.drop(columns=['namestyle', 'title', 'firstname', 'middlename', 'lastname', 'suffix', 'emailaddress', 'phone',\n",
    "                               'companyname', 'emailaddress', 'passwordhash', 'passwordsalt'])"
   ]
  },
  {
   "cell_type": "code",
   "execution_count": 10,
   "id": "987d8a12",
   "metadata": {},
   "outputs": [],
   "source": [
    "clientes=clientes[['customerid', 'fullname', 'salesperson', 'modifieddate', 'rowguid']]"
   ]
  },
  {
   "cell_type": "code",
   "execution_count": 11,
   "id": "c7b824cd",
   "metadata": {},
   "outputs": [
    {
     "data": {
      "text/plain": [
       "(407, 5)"
      ]
     },
     "execution_count": 11,
     "metadata": {},
     "output_type": "execute_result"
    }
   ],
   "source": [
    "clientes.shape"
   ]
  },
  {
   "cell_type": "code",
   "execution_count": 12,
   "id": "7b74b277",
   "metadata": {},
   "outputs": [
    {
     "name": "stdout",
     "output_type": "stream",
     "text": [
      "<class 'pandas.core.frame.DataFrame'>\n",
      "RangeIndex: 407 entries, 0 to 406\n",
      "Data columns (total 5 columns):\n",
      " #   Column        Non-Null Count  Dtype \n",
      "---  ------        --------------  ----- \n",
      " 0   customerid    407 non-null    int64 \n",
      " 1   fullname      407 non-null    object\n",
      " 2   salesperson   407 non-null    object\n",
      " 3   modifieddate  407 non-null    object\n",
      " 4   rowguid       407 non-null    object\n",
      "dtypes: int64(1), object(4)\n",
      "memory usage: 16.0+ KB\n"
     ]
    }
   ],
   "source": [
    "clientes.info()"
   ]
  },
  {
   "cell_type": "code",
   "execution_count": 13,
   "id": "e54bf9fc",
   "metadata": {},
   "outputs": [],
   "source": [
    "clientes=clientes.rename(columns={'customerid': 'id_cliente', 'fullname': 'nome_cliente', 'salesperson': 'vendedor',\n",
    "                        'modifieddate': 'data_saida', 'rowguid': 'guia_linha' })"
   ]
  },
  {
   "cell_type": "code",
   "execution_count": 14,
   "id": "cf2586f6",
   "metadata": {},
   "outputs": [
    {
     "data": {
      "text/html": [
       "<div>\n",
       "<style scoped>\n",
       "    .dataframe tbody tr th:only-of-type {\n",
       "        vertical-align: middle;\n",
       "    }\n",
       "\n",
       "    .dataframe tbody tr th {\n",
       "        vertical-align: top;\n",
       "    }\n",
       "\n",
       "    .dataframe thead th {\n",
       "        text-align: right;\n",
       "    }\n",
       "</style>\n",
       "<table border=\"1\" class=\"dataframe\">\n",
       "  <thead>\n",
       "    <tr style=\"text-align: right;\">\n",
       "      <th></th>\n",
       "      <th>id_cliente</th>\n",
       "      <th>nome_cliente</th>\n",
       "      <th>vendedor</th>\n",
       "      <th>data_saida</th>\n",
       "      <th>guia_linha</th>\n",
       "    </tr>\n",
       "  </thead>\n",
       "  <tbody>\n",
       "    <tr>\n",
       "      <th>0</th>\n",
       "      <td>29485</td>\n",
       "      <td>Catherine R. Abel</td>\n",
       "      <td>adventure-works\\linda3</td>\n",
       "      <td>2009-05-16 16:33:33.077</td>\n",
       "      <td>392ae773-d7ec-48ac-b8d0-6e65b770285c</td>\n",
       "    </tr>\n",
       "  </tbody>\n",
       "</table>\n",
       "</div>"
      ],
      "text/plain": [
       "   id_cliente       nome_cliente                vendedor  \\\n",
       "0       29485  Catherine R. Abel  adventure-works\\linda3   \n",
       "\n",
       "                data_saida                            guia_linha  \n",
       "0  2009-05-16 16:33:33.077  392ae773-d7ec-48ac-b8d0-6e65b770285c  "
      ]
     },
     "execution_count": 14,
     "metadata": {},
     "output_type": "execute_result"
    }
   ],
   "source": [
    "clientes.head(1)"
   ]
  },
  {
   "cell_type": "code",
   "execution_count": 15,
   "id": "3dc77d2b",
   "metadata": {},
   "outputs": [
    {
     "name": "stdout",
     "output_type": "stream",
     "text": [
      "<class 'pandas.core.frame.DataFrame'>\n",
      "RangeIndex: 407 entries, 0 to 406\n",
      "Data columns (total 5 columns):\n",
      " #   Column        Non-Null Count  Dtype \n",
      "---  ------        --------------  ----- \n",
      " 0   id_cliente    407 non-null    int64 \n",
      " 1   nome_cliente  407 non-null    object\n",
      " 2   vendedor      407 non-null    object\n",
      " 3   data_saida    407 non-null    object\n",
      " 4   guia_linha    407 non-null    object\n",
      "dtypes: int64(1), object(4)\n",
      "memory usage: 16.0+ KB\n"
     ]
    }
   ],
   "source": [
    "clientes.info()"
   ]
  },
  {
   "cell_type": "markdown",
   "id": "4b940be5",
   "metadata": {},
   "source": [
    "**Importando e Tratando Dados - Produtos**"
   ]
  },
  {
   "cell_type": "code",
   "execution_count": 16,
   "id": "07642d92",
   "metadata": {},
   "outputs": [],
   "source": [
    "produtos=pd.read_csv('product.csv') "
   ]
  },
  {
   "cell_type": "code",
   "execution_count": 17,
   "id": "343bcc1b",
   "metadata": {},
   "outputs": [
    {
     "data": {
      "text/plain": [
       "(295, 17)"
      ]
     },
     "execution_count": 17,
     "metadata": {},
     "output_type": "execute_result"
    }
   ],
   "source": [
    "produtos.shape"
   ]
  },
  {
   "cell_type": "code",
   "execution_count": 18,
   "id": "2512cf9b",
   "metadata": {},
   "outputs": [
    {
     "name": "stdout",
     "output_type": "stream",
     "text": [
      "<class 'pandas.core.frame.DataFrame'>\n",
      "RangeIndex: 295 entries, 0 to 294\n",
      "Data columns (total 17 columns):\n",
      " #   Column                  Non-Null Count  Dtype  \n",
      "---  ------                  --------------  -----  \n",
      " 0   productid               295 non-null    int64  \n",
      " 1   name                    295 non-null    object \n",
      " 2   productnumber           295 non-null    object \n",
      " 3   color                   245 non-null    object \n",
      " 4   standardcost            295 non-null    float64\n",
      " 5   listprice               295 non-null    float64\n",
      " 6   size                    211 non-null    object \n",
      " 7   weight                  198 non-null    float64\n",
      " 8   productcategoryid       295 non-null    int64  \n",
      " 9   productmodelid          295 non-null    int64  \n",
      " 10  sellstartdate           295 non-null    object \n",
      " 11  sellenddate             98 non-null     object \n",
      " 12  discontinueddate        0 non-null      float64\n",
      " 13  thumbnailphoto          0 non-null      float64\n",
      " 14  thumbnailphotofilename  295 non-null    object \n",
      " 15  rowguid                 295 non-null    object \n",
      " 16  modifieddate            295 non-null    object \n",
      "dtypes: float64(5), int64(3), object(9)\n",
      "memory usage: 39.3+ KB\n"
     ]
    }
   ],
   "source": [
    "produtos.info()"
   ]
  },
  {
   "cell_type": "code",
   "execution_count": 19,
   "id": "13c0a238",
   "metadata": {},
   "outputs": [
    {
     "data": {
      "text/html": [
       "<div>\n",
       "<style scoped>\n",
       "    .dataframe tbody tr th:only-of-type {\n",
       "        vertical-align: middle;\n",
       "    }\n",
       "\n",
       "    .dataframe tbody tr th {\n",
       "        vertical-align: top;\n",
       "    }\n",
       "\n",
       "    .dataframe thead th {\n",
       "        text-align: right;\n",
       "    }\n",
       "</style>\n",
       "<table border=\"1\" class=\"dataframe\">\n",
       "  <thead>\n",
       "    <tr style=\"text-align: right;\">\n",
       "      <th></th>\n",
       "      <th>productid</th>\n",
       "      <th>name</th>\n",
       "      <th>productnumber</th>\n",
       "      <th>color</th>\n",
       "      <th>standardcost</th>\n",
       "      <th>listprice</th>\n",
       "      <th>size</th>\n",
       "      <th>weight</th>\n",
       "      <th>productcategoryid</th>\n",
       "      <th>productmodelid</th>\n",
       "      <th>sellstartdate</th>\n",
       "      <th>sellenddate</th>\n",
       "      <th>discontinueddate</th>\n",
       "      <th>thumbnailphoto</th>\n",
       "      <th>thumbnailphotofilename</th>\n",
       "      <th>rowguid</th>\n",
       "      <th>modifieddate</th>\n",
       "    </tr>\n",
       "  </thead>\n",
       "  <tbody>\n",
       "    <tr>\n",
       "      <th>0</th>\n",
       "      <td>680</td>\n",
       "      <td>HL Road Frame - Black, 58</td>\n",
       "      <td>FR-R92B-58</td>\n",
       "      <td>Black</td>\n",
       "      <td>1059.31</td>\n",
       "      <td>1431.5</td>\n",
       "      <td>58</td>\n",
       "      <td>1016.04</td>\n",
       "      <td>18</td>\n",
       "      <td>6</td>\n",
       "      <td>2002-06-01 00:00:00.000</td>\n",
       "      <td>NaN</td>\n",
       "      <td>NaN</td>\n",
       "      <td>NaN</td>\n",
       "      <td>no_image_available_small.gif</td>\n",
       "      <td>43dd68d6-14a4-461f-9069-55309d90ea7e</td>\n",
       "      <td>2008-03-11 10:01:36.827</td>\n",
       "    </tr>\n",
       "  </tbody>\n",
       "</table>\n",
       "</div>"
      ],
      "text/plain": [
       "   productid                       name productnumber  color  standardcost  \\\n",
       "0        680  HL Road Frame - Black, 58    FR-R92B-58  Black       1059.31   \n",
       "\n",
       "   listprice size   weight  productcategoryid  productmodelid  \\\n",
       "0     1431.5   58  1016.04                 18               6   \n",
       "\n",
       "             sellstartdate sellenddate  discontinueddate  thumbnailphoto  \\\n",
       "0  2002-06-01 00:00:00.000         NaN               NaN             NaN   \n",
       "\n",
       "         thumbnailphotofilename                               rowguid  \\\n",
       "0  no_image_available_small.gif  43dd68d6-14a4-461f-9069-55309d90ea7e   \n",
       "\n",
       "              modifieddate  \n",
       "0  2008-03-11 10:01:36.827  "
      ]
     },
     "execution_count": 19,
     "metadata": {},
     "output_type": "execute_result"
    }
   ],
   "source": [
    "produtos.head(1)"
   ]
  },
  {
   "cell_type": "code",
   "execution_count": 20,
   "id": "9e86a0bf",
   "metadata": {},
   "outputs": [],
   "source": [
    "produtos=produtos.drop(columns=['productnumber', 'color', 'size', 'weight', 'productcategoryid',\n",
    "                                'productmodelid', 'sellstartdate', 'sellenddate', 'discontinueddate', 'thumbnailphoto',\n",
    "                               'thumbnailphotofilename'])"
   ]
  },
  {
   "cell_type": "code",
   "execution_count": 21,
   "id": "40d1bf13",
   "metadata": {},
   "outputs": [
    {
     "data": {
      "text/plain": [
       "(295, 6)"
      ]
     },
     "execution_count": 21,
     "metadata": {},
     "output_type": "execute_result"
    }
   ],
   "source": [
    "produtos.shape"
   ]
  },
  {
   "cell_type": "code",
   "execution_count": 22,
   "id": "f81c775f",
   "metadata": {},
   "outputs": [
    {
     "name": "stdout",
     "output_type": "stream",
     "text": [
      "<class 'pandas.core.frame.DataFrame'>\n",
      "RangeIndex: 295 entries, 0 to 294\n",
      "Data columns (total 6 columns):\n",
      " #   Column        Non-Null Count  Dtype  \n",
      "---  ------        --------------  -----  \n",
      " 0   productid     295 non-null    int64  \n",
      " 1   name          295 non-null    object \n",
      " 2   standardcost  295 non-null    float64\n",
      " 3   listprice     295 non-null    float64\n",
      " 4   rowguid       295 non-null    object \n",
      " 5   modifieddate  295 non-null    object \n",
      "dtypes: float64(2), int64(1), object(3)\n",
      "memory usage: 14.0+ KB\n"
     ]
    }
   ],
   "source": [
    "produtos.info()"
   ]
  },
  {
   "cell_type": "code",
   "execution_count": 23,
   "id": "e7ed9d56",
   "metadata": {},
   "outputs": [],
   "source": [
    "produtos=produtos.rename(columns={'productid': 'id_produto', 'name': 'nome_produto', 'listprice': 'preco',\n",
    "                        'modifieddate': 'data_saida', 'rowguid': 'guia_linha' })"
   ]
  },
  {
   "cell_type": "code",
   "execution_count": 24,
   "id": "c3b339ba",
   "metadata": {},
   "outputs": [
    {
     "data": {
      "text/html": [
       "<div>\n",
       "<style scoped>\n",
       "    .dataframe tbody tr th:only-of-type {\n",
       "        vertical-align: middle;\n",
       "    }\n",
       "\n",
       "    .dataframe tbody tr th {\n",
       "        vertical-align: top;\n",
       "    }\n",
       "\n",
       "    .dataframe thead th {\n",
       "        text-align: right;\n",
       "    }\n",
       "</style>\n",
       "<table border=\"1\" class=\"dataframe\">\n",
       "  <thead>\n",
       "    <tr style=\"text-align: right;\">\n",
       "      <th></th>\n",
       "      <th>id_produto</th>\n",
       "      <th>nome_produto</th>\n",
       "      <th>standardcost</th>\n",
       "      <th>preco</th>\n",
       "      <th>guia_linha</th>\n",
       "      <th>data_saida</th>\n",
       "    </tr>\n",
       "  </thead>\n",
       "  <tbody>\n",
       "    <tr>\n",
       "      <th>0</th>\n",
       "      <td>680</td>\n",
       "      <td>HL Road Frame - Black, 58</td>\n",
       "      <td>1059.31</td>\n",
       "      <td>1431.5</td>\n",
       "      <td>43dd68d6-14a4-461f-9069-55309d90ea7e</td>\n",
       "      <td>2008-03-11 10:01:36.827</td>\n",
       "    </tr>\n",
       "  </tbody>\n",
       "</table>\n",
       "</div>"
      ],
      "text/plain": [
       "   id_produto               nome_produto  standardcost   preco  \\\n",
       "0         680  HL Road Frame - Black, 58       1059.31  1431.5   \n",
       "\n",
       "                             guia_linha               data_saida  \n",
       "0  43dd68d6-14a4-461f-9069-55309d90ea7e  2008-03-11 10:01:36.827  "
      ]
     },
     "execution_count": 24,
     "metadata": {},
     "output_type": "execute_result"
    }
   ],
   "source": [
    "produtos.head(1)"
   ]
  },
  {
   "cell_type": "code",
   "execution_count": 25,
   "id": "2a335c7c",
   "metadata": {},
   "outputs": [
    {
     "name": "stdout",
     "output_type": "stream",
     "text": [
      "<class 'pandas.core.frame.DataFrame'>\n",
      "RangeIndex: 295 entries, 0 to 294\n",
      "Data columns (total 6 columns):\n",
      " #   Column        Non-Null Count  Dtype  \n",
      "---  ------        --------------  -----  \n",
      " 0   id_produto    295 non-null    int64  \n",
      " 1   nome_produto  295 non-null    object \n",
      " 2   standardcost  295 non-null    float64\n",
      " 3   preco         295 non-null    float64\n",
      " 4   guia_linha    295 non-null    object \n",
      " 5   data_saida    295 non-null    object \n",
      "dtypes: float64(2), int64(1), object(3)\n",
      "memory usage: 14.0+ KB\n"
     ]
    }
   ],
   "source": [
    "produtos.info()"
   ]
  },
  {
   "cell_type": "markdown",
   "id": "39347bb1",
   "metadata": {},
   "source": [
    "**Importando e Tratando Dados - Vendas**"
   ]
  },
  {
   "cell_type": "code",
   "execution_count": 26,
   "id": "f9ac7080",
   "metadata": {},
   "outputs": [],
   "source": [
    "vendas=pd.read_csv('salesorderdetail.csv') "
   ]
  },
  {
   "cell_type": "code",
   "execution_count": 27,
   "id": "96c7d506",
   "metadata": {},
   "outputs": [
    {
     "data": {
      "text/plain": [
       "(542, 9)"
      ]
     },
     "execution_count": 27,
     "metadata": {},
     "output_type": "execute_result"
    }
   ],
   "source": [
    "vendas.shape"
   ]
  },
  {
   "cell_type": "code",
   "execution_count": 28,
   "id": "f677837a",
   "metadata": {},
   "outputs": [
    {
     "name": "stdout",
     "output_type": "stream",
     "text": [
      "<class 'pandas.core.frame.DataFrame'>\n",
      "RangeIndex: 542 entries, 0 to 541\n",
      "Data columns (total 9 columns):\n",
      " #   Column              Non-Null Count  Dtype  \n",
      "---  ------              --------------  -----  \n",
      " 0   salesorderid        542 non-null    int64  \n",
      " 1   salesorderdetailid  542 non-null    int64  \n",
      " 2   orderqty            542 non-null    int64  \n",
      " 3   productid           542 non-null    int64  \n",
      " 4   unitprice           542 non-null    float64\n",
      " 5   unitpricediscount   542 non-null    float64\n",
      " 6   linetotal           542 non-null    float64\n",
      " 7   rowguid             542 non-null    object \n",
      " 8   modifieddate        542 non-null    object \n",
      "dtypes: float64(3), int64(4), object(2)\n",
      "memory usage: 38.2+ KB\n"
     ]
    }
   ],
   "source": [
    "vendas.info()"
   ]
  },
  {
   "cell_type": "code",
   "execution_count": 29,
   "id": "c8069461",
   "metadata": {},
   "outputs": [],
   "source": [
    "vendas=vendas.drop(columns=['salesorderdetailid'])"
   ]
  },
  {
   "cell_type": "code",
   "execution_count": 30,
   "id": "b51f9729",
   "metadata": {},
   "outputs": [
    {
     "name": "stdout",
     "output_type": "stream",
     "text": [
      "<class 'pandas.core.frame.DataFrame'>\n",
      "RangeIndex: 542 entries, 0 to 541\n",
      "Data columns (total 8 columns):\n",
      " #   Column             Non-Null Count  Dtype  \n",
      "---  ------             --------------  -----  \n",
      " 0   salesorderid       542 non-null    int64  \n",
      " 1   orderqty           542 non-null    int64  \n",
      " 2   productid          542 non-null    int64  \n",
      " 3   unitprice          542 non-null    float64\n",
      " 4   unitpricediscount  542 non-null    float64\n",
      " 5   linetotal          542 non-null    float64\n",
      " 6   rowguid            542 non-null    object \n",
      " 7   modifieddate       542 non-null    object \n",
      "dtypes: float64(3), int64(3), object(2)\n",
      "memory usage: 34.0+ KB\n"
     ]
    }
   ],
   "source": [
    "vendas.info()"
   ]
  },
  {
   "cell_type": "code",
   "execution_count": 31,
   "id": "46f8a079",
   "metadata": {},
   "outputs": [],
   "source": [
    "vendas=vendas.rename(columns={'salesorderid': 'id_venda', 'orderqty': 'quantidade_vendida', 'productid': 'id_produto',\n",
    "                            'unitprice': 'preco_unitario', 'unitpricediscount': 'desconto', 'linetotal': 'valor_arrecadado',\n",
    "                            'modifieddate': 'data_saida', 'rowguid': 'guia_linha' })"
   ]
  },
  {
   "cell_type": "code",
   "execution_count": 32,
   "id": "0021b68b",
   "metadata": {},
   "outputs": [
    {
     "data": {
      "text/html": [
       "<div>\n",
       "<style scoped>\n",
       "    .dataframe tbody tr th:only-of-type {\n",
       "        vertical-align: middle;\n",
       "    }\n",
       "\n",
       "    .dataframe tbody tr th {\n",
       "        vertical-align: top;\n",
       "    }\n",
       "\n",
       "    .dataframe thead th {\n",
       "        text-align: right;\n",
       "    }\n",
       "</style>\n",
       "<table border=\"1\" class=\"dataframe\">\n",
       "  <thead>\n",
       "    <tr style=\"text-align: right;\">\n",
       "      <th></th>\n",
       "      <th>id_venda</th>\n",
       "      <th>quantidade_vendida</th>\n",
       "      <th>id_produto</th>\n",
       "      <th>preco_unitario</th>\n",
       "      <th>desconto</th>\n",
       "      <th>valor_arrecadado</th>\n",
       "      <th>guia_linha</th>\n",
       "      <th>data_saida</th>\n",
       "    </tr>\n",
       "  </thead>\n",
       "  <tbody>\n",
       "    <tr>\n",
       "      <th>0</th>\n",
       "      <td>71774</td>\n",
       "      <td>1</td>\n",
       "      <td>836</td>\n",
       "      <td>356.898</td>\n",
       "      <td>0.0</td>\n",
       "      <td>356.898</td>\n",
       "      <td>e3a1994c-7a68-4ce8-96a3-77fdd3bbd730</td>\n",
       "      <td>2008-06-01 00:00:00.000</td>\n",
       "    </tr>\n",
       "  </tbody>\n",
       "</table>\n",
       "</div>"
      ],
      "text/plain": [
       "   id_venda  quantidade_vendida  id_produto  preco_unitario  desconto  \\\n",
       "0     71774                   1         836         356.898       0.0   \n",
       "\n",
       "   valor_arrecadado                            guia_linha  \\\n",
       "0           356.898  e3a1994c-7a68-4ce8-96a3-77fdd3bbd730   \n",
       "\n",
       "                data_saida  \n",
       "0  2008-06-01 00:00:00.000  "
      ]
     },
     "execution_count": 32,
     "metadata": {},
     "output_type": "execute_result"
    }
   ],
   "source": [
    "vendas.head(1)"
   ]
  },
  {
   "cell_type": "code",
   "execution_count": 33,
   "id": "8aae1a1c",
   "metadata": {},
   "outputs": [
    {
     "name": "stdout",
     "output_type": "stream",
     "text": [
      "<class 'pandas.core.frame.DataFrame'>\n",
      "RangeIndex: 542 entries, 0 to 541\n",
      "Data columns (total 8 columns):\n",
      " #   Column              Non-Null Count  Dtype  \n",
      "---  ------              --------------  -----  \n",
      " 0   id_venda            542 non-null    int64  \n",
      " 1   quantidade_vendida  542 non-null    int64  \n",
      " 2   id_produto          542 non-null    int64  \n",
      " 3   preco_unitario      542 non-null    float64\n",
      " 4   desconto            542 non-null    float64\n",
      " 5   valor_arrecadado    542 non-null    float64\n",
      " 6   guia_linha          542 non-null    object \n",
      " 7   data_saida          542 non-null    object \n",
      "dtypes: float64(3), int64(3), object(2)\n",
      "memory usage: 34.0+ KB\n"
     ]
    }
   ],
   "source": [
    "vendas.info()"
   ]
  },
  {
   "cell_type": "markdown",
   "id": "a8786b2d",
   "metadata": {},
   "source": [
    "**Insights**"
   ]
  },
  {
   "cell_type": "code",
   "execution_count": 34,
   "id": "eff98955",
   "metadata": {},
   "outputs": [
    {
     "data": {
      "text/html": [
       "<div>\n",
       "<style scoped>\n",
       "    .dataframe tbody tr th:only-of-type {\n",
       "        vertical-align: middle;\n",
       "    }\n",
       "\n",
       "    .dataframe tbody tr th {\n",
       "        vertical-align: top;\n",
       "    }\n",
       "\n",
       "    .dataframe thead th {\n",
       "        text-align: right;\n",
       "    }\n",
       "</style>\n",
       "<table border=\"1\" class=\"dataframe\">\n",
       "  <thead>\n",
       "    <tr style=\"text-align: right;\">\n",
       "      <th></th>\n",
       "      <th>quantidade_vendida</th>\n",
       "    </tr>\n",
       "    <tr>\n",
       "      <th>id_produto</th>\n",
       "      <th></th>\n",
       "    </tr>\n",
       "  </thead>\n",
       "  <tbody>\n",
       "    <tr>\n",
       "      <th>707</th>\n",
       "      <td>35</td>\n",
       "    </tr>\n",
       "    <tr>\n",
       "      <th>708</th>\n",
       "      <td>51</td>\n",
       "    </tr>\n",
       "    <tr>\n",
       "      <th>711</th>\n",
       "      <td>38</td>\n",
       "    </tr>\n",
       "    <tr>\n",
       "      <th>712</th>\n",
       "      <td>52</td>\n",
       "    </tr>\n",
       "    <tr>\n",
       "      <th>714</th>\n",
       "      <td>26</td>\n",
       "    </tr>\n",
       "    <tr>\n",
       "      <th>715</th>\n",
       "      <td>51</td>\n",
       "    </tr>\n",
       "    <tr>\n",
       "      <th>716</th>\n",
       "      <td>14</td>\n",
       "    </tr>\n",
       "    <tr>\n",
       "      <th>717</th>\n",
       "      <td>3</td>\n",
       "    </tr>\n",
       "    <tr>\n",
       "      <th>718</th>\n",
       "      <td>3</td>\n",
       "    </tr>\n",
       "    <tr>\n",
       "      <th>722</th>\n",
       "      <td>9</td>\n",
       "    </tr>\n",
       "    <tr>\n",
       "      <th>738</th>\n",
       "      <td>11</td>\n",
       "    </tr>\n",
       "    <tr>\n",
       "      <th>739</th>\n",
       "      <td>6</td>\n",
       "    </tr>\n",
       "    <tr>\n",
       "      <th>742</th>\n",
       "      <td>10</td>\n",
       "    </tr>\n",
       "    <tr>\n",
       "      <th>743</th>\n",
       "      <td>12</td>\n",
       "    </tr>\n",
       "    <tr>\n",
       "      <th>747</th>\n",
       "      <td>7</td>\n",
       "    </tr>\n",
       "    <tr>\n",
       "      <th>748</th>\n",
       "      <td>16</td>\n",
       "    </tr>\n",
       "    <tr>\n",
       "      <th>779</th>\n",
       "      <td>11</td>\n",
       "    </tr>\n",
       "    <tr>\n",
       "      <th>780</th>\n",
       "      <td>15</td>\n",
       "    </tr>\n",
       "    <tr>\n",
       "      <th>781</th>\n",
       "      <td>13</td>\n",
       "    </tr>\n",
       "    <tr>\n",
       "      <th>782</th>\n",
       "      <td>26</td>\n",
       "    </tr>\n",
       "    <tr>\n",
       "      <th>783</th>\n",
       "      <td>27</td>\n",
       "    </tr>\n",
       "    <tr>\n",
       "      <th>784</th>\n",
       "      <td>14</td>\n",
       "    </tr>\n",
       "    <tr>\n",
       "      <th>792</th>\n",
       "      <td>3</td>\n",
       "    </tr>\n",
       "    <tr>\n",
       "      <th>793</th>\n",
       "      <td>12</td>\n",
       "    </tr>\n",
       "    <tr>\n",
       "      <th>794</th>\n",
       "      <td>12</td>\n",
       "    </tr>\n",
       "    <tr>\n",
       "      <th>795</th>\n",
       "      <td>8</td>\n",
       "    </tr>\n",
       "    <tr>\n",
       "      <th>796</th>\n",
       "      <td>3</td>\n",
       "    </tr>\n",
       "    <tr>\n",
       "      <th>797</th>\n",
       "      <td>19</td>\n",
       "    </tr>\n",
       "    <tr>\n",
       "      <th>798</th>\n",
       "      <td>8</td>\n",
       "    </tr>\n",
       "    <tr>\n",
       "      <th>799</th>\n",
       "      <td>5</td>\n",
       "    </tr>\n",
       "    <tr>\n",
       "      <th>800</th>\n",
       "      <td>3</td>\n",
       "    </tr>\n",
       "    <tr>\n",
       "      <th>801</th>\n",
       "      <td>8</td>\n",
       "    </tr>\n",
       "    <tr>\n",
       "      <th>808</th>\n",
       "      <td>7</td>\n",
       "    </tr>\n",
       "    <tr>\n",
       "      <th>809</th>\n",
       "      <td>12</td>\n",
       "    </tr>\n",
       "    <tr>\n",
       "      <th>810</th>\n",
       "      <td>3</td>\n",
       "    </tr>\n",
       "    <tr>\n",
       "      <th>813</th>\n",
       "      <td>4</td>\n",
       "    </tr>\n",
       "    <tr>\n",
       "      <th>822</th>\n",
       "      <td>4</td>\n",
       "    </tr>\n",
       "    <tr>\n",
       "      <th>835</th>\n",
       "      <td>12</td>\n",
       "    </tr>\n",
       "    <tr>\n",
       "      <th>836</th>\n",
       "      <td>12</td>\n",
       "    </tr>\n",
       "    <tr>\n",
       "      <th>838</th>\n",
       "      <td>6</td>\n",
       "    </tr>\n",
       "    <tr>\n",
       "      <th>858</th>\n",
       "      <td>12</td>\n",
       "    </tr>\n",
       "    <tr>\n",
       "      <th>859</th>\n",
       "      <td>26</td>\n",
       "    </tr>\n",
       "    <tr>\n",
       "      <th>860</th>\n",
       "      <td>19</td>\n",
       "    </tr>\n",
       "    <tr>\n",
       "      <th>864</th>\n",
       "      <td>87</td>\n",
       "    </tr>\n",
       "    <tr>\n",
       "      <th>865</th>\n",
       "      <td>34</td>\n",
       "    </tr>\n",
       "    <tr>\n",
       "      <th>867</th>\n",
       "      <td>48</td>\n",
       "    </tr>\n",
       "    <tr>\n",
       "      <th>868</th>\n",
       "      <td>5</td>\n",
       "    </tr>\n",
       "    <tr>\n",
       "      <th>869</th>\n",
       "      <td>27</td>\n",
       "    </tr>\n",
       "    <tr>\n",
       "      <th>870</th>\n",
       "      <td>54</td>\n",
       "    </tr>\n",
       "    <tr>\n",
       "      <th>873</th>\n",
       "      <td>20</td>\n",
       "    </tr>\n",
       "    <tr>\n",
       "      <th>874</th>\n",
       "      <td>15</td>\n",
       "    </tr>\n",
       "    <tr>\n",
       "      <th>875</th>\n",
       "      <td>51</td>\n",
       "    </tr>\n",
       "    <tr>\n",
       "      <th>876</th>\n",
       "      <td>32</td>\n",
       "    </tr>\n",
       "    <tr>\n",
       "      <th>877</th>\n",
       "      <td>55</td>\n",
       "    </tr>\n",
       "    <tr>\n",
       "      <th>880</th>\n",
       "      <td>50</td>\n",
       "    </tr>\n",
       "    <tr>\n",
       "      <th>881</th>\n",
       "      <td>31</td>\n",
       "    </tr>\n",
       "    <tr>\n",
       "      <th>883</th>\n",
       "      <td>51</td>\n",
       "    </tr>\n",
       "    <tr>\n",
       "      <th>884</th>\n",
       "      <td>57</td>\n",
       "    </tr>\n",
       "    <tr>\n",
       "      <th>885</th>\n",
       "      <td>12</td>\n",
       "    </tr>\n",
       "    <tr>\n",
       "      <th>886</th>\n",
       "      <td>1</td>\n",
       "    </tr>\n",
       "    <tr>\n",
       "      <th>889</th>\n",
       "      <td>5</td>\n",
       "    </tr>\n",
       "    <tr>\n",
       "      <th>891</th>\n",
       "      <td>1</td>\n",
       "    </tr>\n",
       "    <tr>\n",
       "      <th>892</th>\n",
       "      <td>7</td>\n",
       "    </tr>\n",
       "    <tr>\n",
       "      <th>893</th>\n",
       "      <td>3</td>\n",
       "    </tr>\n",
       "    <tr>\n",
       "      <th>894</th>\n",
       "      <td>8</td>\n",
       "    </tr>\n",
       "    <tr>\n",
       "      <th>895</th>\n",
       "      <td>2</td>\n",
       "    </tr>\n",
       "    <tr>\n",
       "      <th>896</th>\n",
       "      <td>3</td>\n",
       "    </tr>\n",
       "    <tr>\n",
       "      <th>899</th>\n",
       "      <td>3</td>\n",
       "    </tr>\n",
       "    <tr>\n",
       "      <th>900</th>\n",
       "      <td>2</td>\n",
       "    </tr>\n",
       "    <tr>\n",
       "      <th>904</th>\n",
       "      <td>12</td>\n",
       "    </tr>\n",
       "    <tr>\n",
       "      <th>905</th>\n",
       "      <td>11</td>\n",
       "    </tr>\n",
       "    <tr>\n",
       "      <th>907</th>\n",
       "      <td>1</td>\n",
       "    </tr>\n",
       "    <tr>\n",
       "      <th>908</th>\n",
       "      <td>6</td>\n",
       "    </tr>\n",
       "    <tr>\n",
       "      <th>909</th>\n",
       "      <td>16</td>\n",
       "    </tr>\n",
       "    <tr>\n",
       "      <th>910</th>\n",
       "      <td>7</td>\n",
       "    </tr>\n",
       "    <tr>\n",
       "      <th>913</th>\n",
       "      <td>2</td>\n",
       "    </tr>\n",
       "    <tr>\n",
       "      <th>916</th>\n",
       "      <td>8</td>\n",
       "    </tr>\n",
       "    <tr>\n",
       "      <th>917</th>\n",
       "      <td>8</td>\n",
       "    </tr>\n",
       "    <tr>\n",
       "      <th>918</th>\n",
       "      <td>9</td>\n",
       "    </tr>\n",
       "    <tr>\n",
       "      <th>920</th>\n",
       "      <td>3</td>\n",
       "    </tr>\n",
       "    <tr>\n",
       "      <th>924</th>\n",
       "      <td>9</td>\n",
       "    </tr>\n",
       "    <tr>\n",
       "      <th>925</th>\n",
       "      <td>12</td>\n",
       "    </tr>\n",
       "    <tr>\n",
       "      <th>926</th>\n",
       "      <td>4</td>\n",
       "    </tr>\n",
       "    <tr>\n",
       "      <th>935</th>\n",
       "      <td>12</td>\n",
       "    </tr>\n",
       "    <tr>\n",
       "      <th>936</th>\n",
       "      <td>6</td>\n",
       "    </tr>\n",
       "    <tr>\n",
       "      <th>937</th>\n",
       "      <td>12</td>\n",
       "    </tr>\n",
       "    <tr>\n",
       "      <th>938</th>\n",
       "      <td>21</td>\n",
       "    </tr>\n",
       "    <tr>\n",
       "      <th>939</th>\n",
       "      <td>19</td>\n",
       "    </tr>\n",
       "    <tr>\n",
       "      <th>940</th>\n",
       "      <td>14</td>\n",
       "    </tr>\n",
       "    <tr>\n",
       "      <th>944</th>\n",
       "      <td>9</td>\n",
       "    </tr>\n",
       "    <tr>\n",
       "      <th>945</th>\n",
       "      <td>13</td>\n",
       "    </tr>\n",
       "    <tr>\n",
       "      <th>947</th>\n",
       "      <td>1</td>\n",
       "    </tr>\n",
       "    <tr>\n",
       "      <th>948</th>\n",
       "      <td>12</td>\n",
       "    </tr>\n",
       "    <tr>\n",
       "      <th>949</th>\n",
       "      <td>10</td>\n",
       "    </tr>\n",
       "    <tr>\n",
       "      <th>951</th>\n",
       "      <td>12</td>\n",
       "    </tr>\n",
       "    <tr>\n",
       "      <th>952</th>\n",
       "      <td>8</td>\n",
       "    </tr>\n",
       "    <tr>\n",
       "      <th>953</th>\n",
       "      <td>10</td>\n",
       "    </tr>\n",
       "    <tr>\n",
       "      <th>954</th>\n",
       "      <td>12</td>\n",
       "    </tr>\n",
       "    <tr>\n",
       "      <th>955</th>\n",
       "      <td>5</td>\n",
       "    </tr>\n",
       "    <tr>\n",
       "      <th>956</th>\n",
       "      <td>4</td>\n",
       "    </tr>\n",
       "    <tr>\n",
       "      <th>957</th>\n",
       "      <td>17</td>\n",
       "    </tr>\n",
       "    <tr>\n",
       "      <th>958</th>\n",
       "      <td>15</td>\n",
       "    </tr>\n",
       "    <tr>\n",
       "      <th>959</th>\n",
       "      <td>6</td>\n",
       "    </tr>\n",
       "    <tr>\n",
       "      <th>960</th>\n",
       "      <td>3</td>\n",
       "    </tr>\n",
       "    <tr>\n",
       "      <th>961</th>\n",
       "      <td>18</td>\n",
       "    </tr>\n",
       "    <tr>\n",
       "      <th>962</th>\n",
       "      <td>9</td>\n",
       "    </tr>\n",
       "    <tr>\n",
       "      <th>963</th>\n",
       "      <td>6</td>\n",
       "    </tr>\n",
       "    <tr>\n",
       "      <th>964</th>\n",
       "      <td>3</td>\n",
       "    </tr>\n",
       "    <tr>\n",
       "      <th>965</th>\n",
       "      <td>20</td>\n",
       "    </tr>\n",
       "    <tr>\n",
       "      <th>966</th>\n",
       "      <td>12</td>\n",
       "    </tr>\n",
       "    <tr>\n",
       "      <th>967</th>\n",
       "      <td>16</td>\n",
       "    </tr>\n",
       "    <tr>\n",
       "      <th>968</th>\n",
       "      <td>6</td>\n",
       "    </tr>\n",
       "    <tr>\n",
       "      <th>969</th>\n",
       "      <td>26</td>\n",
       "    </tr>\n",
       "    <tr>\n",
       "      <th>970</th>\n",
       "      <td>9</td>\n",
       "    </tr>\n",
       "    <tr>\n",
       "      <th>971</th>\n",
       "      <td>9</td>\n",
       "    </tr>\n",
       "    <tr>\n",
       "      <th>972</th>\n",
       "      <td>18</td>\n",
       "    </tr>\n",
       "    <tr>\n",
       "      <th>973</th>\n",
       "      <td>20</td>\n",
       "    </tr>\n",
       "    <tr>\n",
       "      <th>974</th>\n",
       "      <td>19</td>\n",
       "    </tr>\n",
       "    <tr>\n",
       "      <th>975</th>\n",
       "      <td>5</td>\n",
       "    </tr>\n",
       "    <tr>\n",
       "      <th>976</th>\n",
       "      <td>42</td>\n",
       "    </tr>\n",
       "    <tr>\n",
       "      <th>977</th>\n",
       "      <td>15</td>\n",
       "    </tr>\n",
       "    <tr>\n",
       "      <th>978</th>\n",
       "      <td>5</td>\n",
       "    </tr>\n",
       "    <tr>\n",
       "      <th>979</th>\n",
       "      <td>23</td>\n",
       "    </tr>\n",
       "    <tr>\n",
       "      <th>980</th>\n",
       "      <td>4</td>\n",
       "    </tr>\n",
       "    <tr>\n",
       "      <th>981</th>\n",
       "      <td>9</td>\n",
       "    </tr>\n",
       "    <tr>\n",
       "      <th>982</th>\n",
       "      <td>5</td>\n",
       "    </tr>\n",
       "    <tr>\n",
       "      <th>983</th>\n",
       "      <td>9</td>\n",
       "    </tr>\n",
       "    <tr>\n",
       "      <th>984</th>\n",
       "      <td>11</td>\n",
       "    </tr>\n",
       "    <tr>\n",
       "      <th>985</th>\n",
       "      <td>12</td>\n",
       "    </tr>\n",
       "    <tr>\n",
       "      <th>986</th>\n",
       "      <td>4</td>\n",
       "    </tr>\n",
       "    <tr>\n",
       "      <th>987</th>\n",
       "      <td>6</td>\n",
       "    </tr>\n",
       "    <tr>\n",
       "      <th>988</th>\n",
       "      <td>17</td>\n",
       "    </tr>\n",
       "    <tr>\n",
       "      <th>989</th>\n",
       "      <td>3</td>\n",
       "    </tr>\n",
       "    <tr>\n",
       "      <th>990</th>\n",
       "      <td>3</td>\n",
       "    </tr>\n",
       "    <tr>\n",
       "      <th>991</th>\n",
       "      <td>5</td>\n",
       "    </tr>\n",
       "    <tr>\n",
       "      <th>992</th>\n",
       "      <td>12</td>\n",
       "    </tr>\n",
       "    <tr>\n",
       "      <th>993</th>\n",
       "      <td>3</td>\n",
       "    </tr>\n",
       "    <tr>\n",
       "      <th>994</th>\n",
       "      <td>7</td>\n",
       "    </tr>\n",
       "    <tr>\n",
       "      <th>996</th>\n",
       "      <td>15</td>\n",
       "    </tr>\n",
       "    <tr>\n",
       "      <th>997</th>\n",
       "      <td>3</td>\n",
       "    </tr>\n",
       "    <tr>\n",
       "      <th>998</th>\n",
       "      <td>21</td>\n",
       "    </tr>\n",
       "    <tr>\n",
       "      <th>999</th>\n",
       "      <td>16</td>\n",
       "    </tr>\n",
       "  </tbody>\n",
       "</table>\n",
       "</div>"
      ],
      "text/plain": [
       "            quantidade_vendida\n",
       "id_produto                    \n",
       "707                         35\n",
       "708                         51\n",
       "711                         38\n",
       "712                         52\n",
       "714                         26\n",
       "715                         51\n",
       "716                         14\n",
       "717                          3\n",
       "718                          3\n",
       "722                          9\n",
       "738                         11\n",
       "739                          6\n",
       "742                         10\n",
       "743                         12\n",
       "747                          7\n",
       "748                         16\n",
       "779                         11\n",
       "780                         15\n",
       "781                         13\n",
       "782                         26\n",
       "783                         27\n",
       "784                         14\n",
       "792                          3\n",
       "793                         12\n",
       "794                         12\n",
       "795                          8\n",
       "796                          3\n",
       "797                         19\n",
       "798                          8\n",
       "799                          5\n",
       "800                          3\n",
       "801                          8\n",
       "808                          7\n",
       "809                         12\n",
       "810                          3\n",
       "813                          4\n",
       "822                          4\n",
       "835                         12\n",
       "836                         12\n",
       "838                          6\n",
       "858                         12\n",
       "859                         26\n",
       "860                         19\n",
       "864                         87\n",
       "865                         34\n",
       "867                         48\n",
       "868                          5\n",
       "869                         27\n",
       "870                         54\n",
       "873                         20\n",
       "874                         15\n",
       "875                         51\n",
       "876                         32\n",
       "877                         55\n",
       "880                         50\n",
       "881                         31\n",
       "883                         51\n",
       "884                         57\n",
       "885                         12\n",
       "886                          1\n",
       "889                          5\n",
       "891                          1\n",
       "892                          7\n",
       "893                          3\n",
       "894                          8\n",
       "895                          2\n",
       "896                          3\n",
       "899                          3\n",
       "900                          2\n",
       "904                         12\n",
       "905                         11\n",
       "907                          1\n",
       "908                          6\n",
       "909                         16\n",
       "910                          7\n",
       "913                          2\n",
       "916                          8\n",
       "917                          8\n",
       "918                          9\n",
       "920                          3\n",
       "924                          9\n",
       "925                         12\n",
       "926                          4\n",
       "935                         12\n",
       "936                          6\n",
       "937                         12\n",
       "938                         21\n",
       "939                         19\n",
       "940                         14\n",
       "944                          9\n",
       "945                         13\n",
       "947                          1\n",
       "948                         12\n",
       "949                         10\n",
       "951                         12\n",
       "952                          8\n",
       "953                         10\n",
       "954                         12\n",
       "955                          5\n",
       "956                          4\n",
       "957                         17\n",
       "958                         15\n",
       "959                          6\n",
       "960                          3\n",
       "961                         18\n",
       "962                          9\n",
       "963                          6\n",
       "964                          3\n",
       "965                         20\n",
       "966                         12\n",
       "967                         16\n",
       "968                          6\n",
       "969                         26\n",
       "970                          9\n",
       "971                          9\n",
       "972                         18\n",
       "973                         20\n",
       "974                         19\n",
       "975                          5\n",
       "976                         42\n",
       "977                         15\n",
       "978                          5\n",
       "979                         23\n",
       "980                          4\n",
       "981                          9\n",
       "982                          5\n",
       "983                          9\n",
       "984                         11\n",
       "985                         12\n",
       "986                          4\n",
       "987                          6\n",
       "988                         17\n",
       "989                          3\n",
       "990                          3\n",
       "991                          5\n",
       "992                         12\n",
       "993                          3\n",
       "994                          7\n",
       "996                         15\n",
       "997                          3\n",
       "998                         21\n",
       "999                         16"
      ]
     },
     "execution_count": 34,
     "metadata": {},
     "output_type": "execute_result"
    }
   ],
   "source": [
    "# Numero de Produtos para Venda\n",
    "vendas.groupby('id_produto')[['quantidade_vendida']].sum()"
   ]
  },
  {
   "cell_type": "code",
   "execution_count": 35,
   "id": "645d07d6",
   "metadata": {},
   "outputs": [
    {
     "name": "stdout",
     "output_type": "stream",
     "text": [
      "Numero de clientes diferentes : 407\n"
     ]
    }
   ],
   "source": [
    "nomes_clientes = clientes.nome_cliente.nunique()\n",
    "print(\"Numero de clientes diferentes :\", nomes_clientes)"
   ]
  },
  {
   "cell_type": "code",
   "execution_count": 36,
   "id": "2b7b280b",
   "metadata": {},
   "outputs": [],
   "source": [
    "# Configurações dos gráficos\n",
    "plt.rcParams['figure.figsize'] = (15,10)\n",
    "plt.rcParams['xtick.labelsize'] = 10\n",
    "plt.rcParams['ytick.labelsize'] = 10\n",
    "plt.rcParams['font.size'] = 15 \n",
    "plt.rcParams['axes.titlesize'] = 20"
   ]
  },
  {
   "cell_type": "code",
   "execution_count": 37,
   "id": "f27dc2e6",
   "metadata": {},
   "outputs": [
    {
     "data": {
      "image/png": "[encoded data removed]",
      "text/plain": [
       "<Figure size 1080x720 with 1 Axes>"
      ]
     },
     "metadata": {
      "needs_background": "light"
     },
     "output_type": "display_data"
    }
   ],
   "source": [
    "# Identificando outliers nos valores de vendas\n",
    "sns.boxplot(x = vendas['valor_arrecadado'])\n",
    "plt.show()"
   ]
  },
  {
   "cell_type": "markdown",
   "id": "1b7a7e73",
   "metadata": {},
   "source": [
    "**Salvando DataFrame Pandas em Parquet**"
   ]
  },
  {
   "cell_type": "code",
   "execution_count": 41,
   "id": "8d0330b3",
   "metadata": {},
   "outputs": [],
   "source": [
    "vendas.to_parquet('vendas.parquet', engine='fastparquet')"
   ]
  },
  {
   "cell_type": "code",
   "execution_count": 42,
   "id": "1c3b64fa",
   "metadata": {},
   "outputs": [],
   "source": [
    "clientes.to_parquet('clientes.parquet', engine='fastparquet')"
   ]
  },
  {
   "cell_type": "code",
   "execution_count": 43,
   "id": "f3901e99",
   "metadata": {},
   "outputs": [],
   "source": [
    "produtos.to_parquet('produtos.parquet', engine='fastparquet')"
   ]
  },
  {
   "cell_type": "markdown",
   "id": "6d7ec149",
   "metadata": {},
   "source": [
    "**Conclusoes**\n",
    "\n",
    "1. Nao esgotamos aqui as possibilidades em funcao de tempo e dedicacao da analise. \n",
    "2. O objetivo foi apenas o demosntras as possibilidades para tratamento e enriquecimentos dos dados dentro de nossa proposta de arquitetura para o caminho dos dados nas camadas RAW, Trusted e Refined de nosso Data Lake."
   ]
  },
  {
   "cell_type": "markdown",
   "id": "bcb69cc1",
   "metadata": {},
   "source": [
    "**Cezar Augusto Meira Carmo - cezaraugustomeiracarmo@gmail.com**"
   ]
  }
 ],
 "metadata": {
  "kernelspec": {
   "display_name": "Python 3 (ipykernel)",
   "language": "python",
   "name": "python3"
  },
  "language_info": {
   "codemirror_mode": {
    "name": "ipython",
    "version": 3
   },
   "file_extension": ".py",
   "mimetype": "text/x-python",
   "name": "python",
   "nbconvert_exporter": "python",
   "pygments_lexer": "ipython3",
   "version": "3.9.12"
  }
 },
 "nbformat": 4,
 "nbformat_minor": 5
}
